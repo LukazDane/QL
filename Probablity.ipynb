{
 "cells": [
  {
   "cell_type": "code",
   "execution_count": 5,
   "metadata": {},
   "outputs": [
    {
     "data": {
      "text/plain": [
       "0.3"
      ]
     },
     "execution_count": 5,
     "metadata": {},
     "output_type": "execute_result"
    }
   ],
   "source": []
  },
  {
   "cell_type": "code",
   "execution_count": 32,
   "metadata": {},
   "outputs": [
    {
     "name": "stdout",
     "output_type": "stream",
     "text": [
      "['Send', 'us', 'your', 'password', 'review', 'us', 'Send', 'your', 'password', 'Send', 'us', 'your', 'account']\n"
     ]
    }
   ],
   "source": [
    "spam_text= ['Send us your password', 'review us', 'Send your password', 'Send us your account']\n",
    "def histogram_spam(ls):\n",
    "    ls_of_words = []\n",
    "    for sentence in ls:\n",
    "        for word in sentence.split(' '):\n",
    "            ls_of_words.append(word)\n",
    "    print(ls_of_words)\n",
    "    \n",
    "histogram_spam(spam_text)"
   ]
  },
  {
   "cell_type": "code",
   "execution_count": 53,
   "metadata": {},
   "outputs": [
    {
     "name": "stdout",
     "output_type": "stream",
     "text": [
      "0.1282051282051282\n",
      "0.8\n",
      "---------\n",
      "0.07692307692307693\n",
      "0.15384615384615385\n"
     ]
    }
   ],
   "source": [
    "p_spam = 4/6\n",
    "p_ham = 2/6\n",
    "spam = {\n",
    "    \"password\": 2,\n",
    "    \"review\": 1,\n",
    "    \"send\": 3,\n",
    "    \"us\": 3,\n",
    "    \"your\": 3,\n",
    "    \"account\": 1\n",
    "}\n",
    "\n",
    "ham = {\n",
    "    \"password\": 1,\n",
    "    \"review\": 2,\n",
    "    \"send\": 1,\n",
    "    \"us\": 1,\n",
    "    \"your\": 1,\n",
    "    \"account\": 0\n",
    "}\n",
    "p_password = (p_password_given_spam*p_spam) + (p_password_given_ham*p_ham)\n",
    "print(p_password)\n",
    "p_spam_given_password = p_password_given_spam*p_spam/p_password\n",
    "print(p_spam_given_password)\n",
    "print(\"---------\")\n",
    "p_review_given_spam = spam['review']/sum(spam.values())\n",
    "print(p_review_given_spam)\n",
    "p_review_given_ham = ham['review']/sum(spam.values())\n",
    "print(p_review_given_ham)"
   ]
  },
  {
   "cell_type": "code",
   "execution_count": 47,
   "metadata": {},
   "outputs": [
    {
     "name": "stdout",
     "output_type": "stream",
     "text": [
      "________________________________\n",
      "password: \n",
      "0.15384615384615385\n",
      "0.07692307692307693\n",
      "0.1282051282051282\n",
      "0.8\n",
      "________________________________\n",
      "________________________________\n",
      "review: \n",
      "0.07692307692307693\n",
      "0.15384615384615385\n",
      "0.10256410256410256\n",
      "0.5\n",
      "________________________________\n",
      "________________________________\n",
      "send: \n",
      "0.23076923076923078\n",
      "0.07692307692307693\n",
      "0.1794871794871795\n",
      "0.8571428571428572\n",
      "________________________________\n",
      "________________________________\n",
      "us: \n",
      "0.23076923076923078\n",
      "0.07692307692307693\n",
      "0.1794871794871795\n",
      "0.8571428571428572\n",
      "________________________________\n",
      "________________________________\n",
      "your: \n",
      "0.23076923076923078\n",
      "0.07692307692307693\n",
      "0.1794871794871795\n",
      "0.8571428571428572\n",
      "________________________________\n",
      "________________________________\n",
      "account: \n",
      "0.07692307692307693\n",
      "0.0\n",
      "0.05128205128205128\n",
      "1.0\n",
      "________________________________\n"
     ]
    }
   ],
   "source": [
    "p_spam = 4/6\n",
    "p_ham = 2/6\n",
    "ls1 = []\n",
    "ls2 = []\n",
    "for i in spam:\n",
    "    print(\"________________________________\")    \n",
    "    print(i + \": \")\n",
    "    p_word_given_spam = spam[i]/sum(spam.values())\n",
    "    p_word_given_ham = ham[i]/sum(spam.values())\n",
    "    # obtain the probability of each word by assuming the email is spam\n",
    "    # obtain the probability of each word by assuming the email is ham \n",
    "    print(p_word_given_spam) #probability of word given/in spam\n",
    "    print(p_word_given_ham) #probabitlity of word given/in ham\n",
    "    \n",
    "    #TODO\n",
    "    p_word = (p_word_given_spam*p_spam) + (p_word_given_ham*p_ham)\n",
    "    print(p_word) #total probability of word\n",
    "    p_spam_given_word = (p_word_given_spam*p_spam)/p_word\n",
    "    print(p_spam_given_word) #probability of spam given each word\n",
    "    # obtain the probability that for a seen word it belongs to spam email\n",
    "    # obtain the probability that for a seen word it belongs to ham email\n",
    "    \n",
    "    #TODO\n",
    "    print(\"________________________________\")"
   ]
  },
  {
   "cell_type": "code",
   "execution_count": null,
   "metadata": {},
   "outputs": [],
   "source": []
  }
 ],
 "metadata": {
  "kernelspec": {
   "display_name": "Python 3",
   "language": "python",
   "name": "python3"
  },
  "language_info": {
   "codemirror_mode": {
    "name": "ipython",
    "version": 3
   },
   "file_extension": ".py",
   "mimetype": "text/x-python",
   "name": "python",
   "nbconvert_exporter": "python",
   "pygments_lexer": "ipython3",
   "version": "3.8.1"
  }
 },
 "nbformat": 4,
 "nbformat_minor": 4
}
