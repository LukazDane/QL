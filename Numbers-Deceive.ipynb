{
 "cells": [
  {
   "cell_type": "code",
   "execution_count": 8,
   "metadata": {},
   "outputs": [
    {
     "data": {
      "text/plain": [
       "(50.0, 57.14285714285714)"
      ]
     },
     "execution_count": 8,
     "metadata": {},
     "output_type": "execute_result"
    }
   ],
   "source": [
    "def shots():\n",
    "    kevin = (7/14) * 100\n",
    "    kobe = (8/14) * 100\n",
    "\n",
    "    return kevin, kobe\n",
    "shots()"
   ]
  },
  {
   "cell_type": "code",
   "execution_count": 16,
   "metadata": {},
   "outputs": [
    {
     "data": {
      "text/plain": [
       "(496.9510000000001, 62.04899999999992)"
      ]
     },
     "execution_count": 16,
     "metadata": {},
     "output_type": "execute_result"
    }
   ],
   "source": [
    "def delay(per, num_arr):\n",
    "    OT = (per * num_arr)/100\n",
    "    DL = num_arr - OT\n",
    "    \n",
    "    return OT, DL\n",
    "\n",
    "delay(88.9, 559)\n",
    "# ls1 = [88.9, 559]\n",
    "# ls2 = []\n",
    "# def total_delay(ls1, ls2):\n",
    "#     T_OT = 0\n",
    "#     T_DL = 0\n",
    "#     for i in ls1:\n",
    "#         delay(ls1[i], ls2[j])\n",
    "#         T_OT += OT\n",
    "#         T_DL += DL\n",
    "#     return T_OL, T_DL\n",
    "        \n",
    "# total_delay(ls1, ls2)"
   ]
  },
  {
   "cell_type": "code",
   "execution_count": 45,
   "metadata": {},
   "outputs": [
    {
     "data": {
      "text/plain": [
       "(10, 2)"
      ]
     },
     "execution_count": 45,
     "metadata": {},
     "output_type": "execute_result"
    }
   ],
   "source": [
    "import numpy as np\n",
    "# [weight, height]\n",
    "x = np.array(\n",
    "[[73.847017017515, 241.893563180437],\n",
    " [68.7819040458903, 162.3104725213],\n",
    " [74.1101053917849, 212.7408555565],\n",
    " [71.7309784033377, 220.042470303077],\n",
    " [69.8817958611153, 206.349800623871],\n",
    " [67.2530156878065, 152.212155757083],\n",
    " [68.7850812516616, 183.927888604031],\n",
    " [68.3485155115879, 167.971110489509],\n",
    " [67.018949662883, 175.92944039571],\n",
    " [63.4564939783664, 156.399676387112]]\n",
    ")\n",
    "x.shape"
   ]
  },
  {
   "cell_type": "code",
   "execution_count": 38,
   "metadata": {},
   "outputs": [
    {
     "data": {
      "text/plain": [
       "208.667432437037"
      ]
     },
     "execution_count": 38,
     "metadata": {},
     "output_type": "execute_result"
    }
   ],
   "source": [
    "# print(x[:5,0])\n",
    "# print(x[:,1])\n",
    "#when using an array \":\" before comma means all rows, \"0\" means first column\n",
    "# np.mean(x[:5,0])\n",
    "np.mean(x[0:5,1])"
   ]
  },
  {
   "cell_type": "code",
   "execution_count": 43,
   "metadata": {},
   "outputs": [
    {
     "name": "stdout",
     "output_type": "stream",
     "text": [
      "67.018949662883\n"
     ]
    }
   ],
   "source": [
    "print(x[8,0]) #weight of 9th column"
   ]
  },
  {
   "cell_type": "code",
   "execution_count": 47,
   "metadata": {},
   "outputs": [
    {
     "name": "stdout",
     "output_type": "stream",
     "text": [
      "[[1 2]\n",
      " [3 4]]\n",
      "10\n",
      "[4 6]\n",
      "[3 7]\n"
     ]
    }
   ],
   "source": [
    "#columnwise addition\n",
    "A = np.array([[1,2],[3,4]])\n",
    "print(A)\n",
    "print(np.sum(A))\n",
    "print(np.sum(A, axis=0))\n",
    "print(np.sum(A, axis=1))"
   ]
  },
  {
   "cell_type": "code",
   "execution_count": 50,
   "metadata": {},
   "outputs": [
    {
     "name": "stdout",
     "output_type": "stream",
     "text": [
      "(4, 3)\n"
     ]
    },
    {
     "data": {
      "text/plain": [
       "array([[ 2,  2,  4],\n",
       "       [ 5,  5,  7],\n",
       "       [ 8,  8, 10],\n",
       "       [11, 11, 13]])"
      ]
     },
     "execution_count": 50,
     "metadata": {},
     "output_type": "execute_result"
    }
   ],
   "source": [
    "A = np.array([[1,2,3],[4,5,6],[7,8,9],[10,11,12]])\n",
    "print(A.shape)\n",
    "v = np.array([1,0,1])\n",
    "A+v"
   ]
  },
  {
   "cell_type": "code",
   "execution_count": 51,
   "metadata": {},
   "outputs": [
    {
     "ename": "SyntaxError",
     "evalue": "invalid syntax (<ipython-input-51-274db83eb181>, line 1)",
     "output_type": "error",
     "traceback": [
      "\u001b[0;36m  File \u001b[0;32m\"<ipython-input-51-274db83eb181>\"\u001b[0;36m, line \u001b[0;32m1\u001b[0m\n\u001b[0;31m    Somebody save me, I need a drink!\u001b[0m\n\u001b[0m             ^\u001b[0m\n\u001b[0;31mSyntaxError\u001b[0m\u001b[0;31m:\u001b[0m invalid syntax\n"
     ]
    }
   ],
   "source": []
  },
  {
   "cell_type": "code",
   "execution_count": 62,
   "metadata": {},
   "outputs": [
    {
     "data": {
      "text/plain": [
       "0.16666666666666666"
      ]
     },
     "execution_count": 62,
     "metadata": {},
     "output_type": "execute_result"
    }
   ],
   "source": [
    "possible = [1,2,3,4,5,6]\n",
    "def roll(num ,ls):\n",
    "    count= 0\n",
    "    for i in ls:\n",
    "        if i == num: \n",
    "           count+= 1\n",
    "    return count/len(possible)\n",
    "\n",
    "roll(1, possible)\n",
    "# roll(2, possible)"
   ]
  },
  {
   "cell_type": "code",
   "execution_count": null,
   "metadata": {},
   "outputs": [],
   "source": []
  }
 ],
 "metadata": {
  "kernelspec": {
   "display_name": "Python 3",
   "language": "python",
   "name": "python3"
  },
  "language_info": {
   "codemirror_mode": {
    "name": "ipython",
    "version": 3
   },
   "file_extension": ".py",
   "mimetype": "text/x-python",
   "name": "python",
   "nbconvert_exporter": "python",
   "pygments_lexer": "ipython3",
   "version": "3.8.1"
  }
 },
 "nbformat": 4,
 "nbformat_minor": 4
}
