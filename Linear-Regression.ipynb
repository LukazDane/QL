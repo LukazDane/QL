{
 "cells": [
  {
   "cell_type": "code",
   "execution_count": 67,
   "metadata": {},
   "outputs": [
    {
     "name": "stdout",
     "output_type": "stream",
     "text": [
      "(6.518593101764704, -2.2940647058823522, 1.1206516974464542)\n"
     ]
    },
    {
     "data": {
      "text/plain": [
       "<matplotlib.axes._subplots.AxesSubplot at 0x129dc0460>"
      ]
     },
     "execution_count": 67,
     "metadata": {},
     "output_type": "execute_result"
    },
    {
     "data": {
      "image/png": "[encoded data removed]",
      "text/plain": [
       "<Figure size 432x288 with 1 Axes>"
      ]
     },
     "metadata": {
      "needs_background": "light"
     },
     "output_type": "display_data"
    }
   ],
   "source": [
    "import numpy as np\n",
    "import matplotlib.pyplot as plt\n",
    "import seaborn as sns\n",
    "from scipy import stats\n",
    "\n",
    "x = np.array([3.3,4.4,5.5,6.71,6.93,4.168,9.779,6.182,7.59,2.167,\n",
    "                         7.042,10.791,5.313,7.997,5.654,9.27,3.1])\n",
    "\n",
    "# Water Drinks in Litre\n",
    "y = np.array([1.7,2.76,2.09,3.19,1.694,1.573,3.366,2.596,2.53,1.221,\n",
    "                         2.827,3.465,1.65,2.904,2.42,2.94,1.3])\n",
    "predicted_y_values = []\n",
    "for i in x:\n",
    "    i = (0.7*i + 0.3)\n",
    "    predicted_y_values.append(i)\n",
    "\n",
    "# plt.scatter(x, y)\n",
    "# plt.plot(x, predicted_y_values, 'ro-')\n",
    "\n",
    "E = [(i-j) for i, j in zip(y, predicted_y_values)]\n",
    "\n",
    "# np.var(E, ddof=1)\n",
    "\n",
    "mse_ls = []\n",
    "def mse():\n",
    "    for i in E:\n",
    "        i = i**2/len(E)\n",
    "        mse_ls.append(i)\n",
    "    return sum(mse_ls), np.mean(E), np.std(E)\n",
    "    \n",
    "print(mse())\n",
    "\n",
    "# plt.scatter(x, y)\n",
    "# plt.plot(x, predicted_y_values, 'ro-')\n",
    "\n",
    "sns.distplot(E, hist=True, bins=4)"
   ]
  },
  {
   "cell_type": "code",
   "execution_count": 64,
   "metadata": {},
   "outputs": [
    {
     "name": "stdout",
     "output_type": "stream",
     "text": [
      "(0.15385767404191159, 2.2857647095348205e-08, 0.39224695542720417)\n"
     ]
    },
    {
     "data": {
      "text/plain": [
       "<matplotlib.axes._subplots.AxesSubplot at 0x129cff940>"
      ]
     },
     "execution_count": 64,
     "metadata": {},
     "output_type": "execute_result"
    },
    {
     "data": {
      "image/png": "[encoded data removed]",
      "text/plain": [
       "<Figure size 432x288 with 1 Axes>"
      ]
     },
     "metadata": {
      "needs_background": "light"
     },
     "output_type": "display_data"
    }
   ],
   "source": [
    "predicted_y_values = []\n",
    "for i in x:\n",
    "    i = (0.25163494*i + 0.79880123)\n",
    "    predicted_y_values.append(i)\n",
    "\n",
    "# plt.scatter(x, y)\n",
    "# plt.plot(x, predicted_y_values, 'ro-')\n",
    "\n",
    "E = [(i-j) for i, j in zip(y, predicted_y_values)]\n",
    "\n",
    "# np.var(E, ddof=1)\n",
    "\n",
    "mse_ls = []\n",
    "def mse():\n",
    "    for i in E:\n",
    "        i = i**2/len(E)\n",
    "        mse_ls.append(i)\n",
    "    return sum(mse_ls), np.mean(E), np.std(E)\n",
    "    \n",
    "print(mse())\n",
    "\n",
    "sns.distplot(E, hist=True, kde=True, bins=4)"
   ]
  },
  {
   "cell_type": "code",
   "execution_count": 66,
   "metadata": {},
   "outputs": [
    {
     "name": "stdout",
     "output_type": "stream",
     "text": [
      "(6.518593101764703, 2.2857647095348205e-08, 0.39224695542720417)\n",
      "(0.15385767404191164, 2.2857647095348205e-08, 0.39224695542720417)\n"
     ]
    }
   ],
   "source": [
    "def min_sq_error(y, x, w1, w0):\n",
    "    y_pred = [w1*i + w0 for i in x]\n",
    "    sum_squared_error = sum([(i-j)**2 for i,j in zip(y_pred, y)])\n",
    "    N = len(y)\n",
    "    mse = sum_squared_error/N\n",
    "    return mse, np.mean(E), np.std(E)\n",
    "\n",
    "print(min_sq_error(y, x, 0.7, 0.3))\n",
    "print(min_sq_error(y, x, 0.25163494, 0.79880123))\n",
    "# plt.scatter(x, y)\n",
    "# plt.plot(x, predicted_y_values, 'ro-')\n"
   ]
  },
  {
   "cell_type": "code",
   "execution_count": 74,
   "metadata": {},
   "outputs": [
    {
     "name": "stdout",
     "output_type": "stream",
     "text": [
      "Slope:  0.25163494428355404\n",
      "Intercept:  0.7988012261753894\n",
      "r_value:  0.8323917528894436\n",
      "p_value:  3.391952640710616e-05\n",
      "std_err:  0.0432568020417479\n",
      "r_squared:  0.6928760302783604\n"
     ]
    }
   ],
   "source": [
    "slope, intercept, r_value, p_value, std_err = stats.linregress(x, y)\n",
    "print(\"Slope: \", slope)\n",
    "print(\"Intercept: \", intercept)\n",
    "print(\"r_value: \", r_value)\n",
    "print(\"p_value: \", p_value)\n",
    "print(\"std_err: \", std_err)\n",
    "print(\"r_squared: \", r_value**2)"
   ]
  },
  {
   "cell_type": "code",
   "execution_count": null,
   "metadata": {},
   "outputs": [],
   "source": []
  }
 ],
 "metadata": {
  "kernelspec": {
   "display_name": "Python 3",
   "language": "python",
   "name": "python3"
  },
  "language_info": {
   "codemirror_mode": {
    "name": "ipython",
    "version": 3
   },
   "file_extension": ".py",
   "mimetype": "text/x-python",
   "name": "python",
   "nbconvert_exporter": "python",
   "pygments_lexer": "ipython3",
   "version": "3.8.1"
  }
 },
 "nbformat": 4,
 "nbformat_minor": 4
}
