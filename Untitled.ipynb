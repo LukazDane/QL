{
 "cells": [
  {
   "cell_type": "code",
   "execution_count": 6,
   "metadata": {},
   "outputs": [
    {
     "name": "stdout",
     "output_type": "stream",
     "text": [
      "0.07692307692307693\n",
      "0.3333333333333333\n"
     ]
    }
   ],
   "source": [
    "spam = {\n",
    "    \"password\": 2,\n",
    "    \"review\": 1,\n",
    "    \"send\": 3,\n",
    "    \"us\": 3,\n",
    "    \"your\": 3,\n",
    "    \"account\": 1\n",
    "}\n",
    "p_review_given_spam = spam['review']/sum(spam.values())\n",
    "print(p_review_given_spam)\n",
    "ham = {\n",
    "    \"password\": 1,\n",
    "    \"review\": 2,\n",
    "    \"send\": 1,\n",
    "    \"us\": 1,\n",
    "    \"your\": 1,\n",
    "    \"account\": 0\n",
    "}\n",
    "p_review_given_ham = ham['review']/sum(ham.values())\n",
    "print(p_review_given_ham)\n"
   ]
  },
  {
   "cell_type": "code",
   "execution_count": 4,
   "metadata": {},
   "outputs": [
    {
     "name": "stdout",
     "output_type": "stream",
     "text": [
      "0.1581196581196581\n",
      "0.6486486486486487\n"
     ]
    }
   ],
   "source": [
    "p_spam = 4/6\n",
    "p_ham = 2/6\n",
    "p_password = p_password_given_spam*p_spam + p_password_given_ham*p_ham \n",
    "print(p_password)\n",
    "p_spam_given_password = p_password_given_spam*p_spam/p_password\n",
    "print(p_spam_given_password)"
   ]
  },
  {
   "cell_type": "code",
   "execution_count": null,
   "metadata": {},
   "outputs": [],
   "source": [
    "p_spam = 4/6\n",
    "p_ham = 2/6\n",
    "ls1 = []\n",
    "ls2 = []\n",
    "ls3\n",
    "for i in spam:\n",
    "    print(i)\n",
    "    p_word_given_spam = spam[i]/sum(spam.values())\n",
    "    p_word_given_ham = ham[i]/sum(ham.values())\n",
    "    # obtain the probability of each word by assuming the email is spam\n",
    "    # obtain the probability of each word by assuming the email is ham \n",
    "    ls1.append([p_word_given_spam, p_word_given_ham])\n",
    "    # obtain the probability that for a seen word it belongs to spam email\n",
    "    # obtain the probability that for a seen word it belongs to ham email\n",
    "    ls2.append([(p_word_given_spam*p_spam)/p_word,(p_word_given_ham*p_ham/p_word)])"
   ]
  }
 ],
 "metadata": {
  "kernelspec": {
   "display_name": "Python 3",
   "language": "python",
   "name": "python3"
  },
  "language_info": {
   "codemirror_mode": {
    "name": "ipython",
    "version": 3
   },
   "file_extension": ".py",
   "mimetype": "text/x-python",
   "name": "python",
   "nbconvert_exporter": "python",
   "pygments_lexer": "ipython3",
   "version": "3.8.1"
  }
 },
 "nbformat": 4,
 "nbformat_minor": 4
}
