{
 "cells": [
  {
   "cell_type": "code",
   "execution_count": 1,
   "metadata": {},
   "outputs": [],
   "source": [
    "# def salary(base_salary, rate, years):\n",
    "    \n",
    "#     for i in range(years):\n",
    "#         result = base_salary + (base_salary * rate)\n",
    "        \n",
    "#     print(result)\n",
    "    \n",
    "# salary(115000, 0.03, 10)"
   ]
  },
  {
   "cell_type": "code",
   "execution_count": 3,
   "metadata": {},
   "outputs": [
    {
     "name": "stdout",
     "output_type": "stream",
     "text": [
      "[ 1  3  5  2  3  7  8  4 10  0  6  7  3  0  3  0  5  7 10  1  4  9  3]\n",
      "4.391304347826087\n"
     ]
    }
   ],
   "source": [
    "import numpy as np\n",
    "data = np.array([1, 3, 5, 2, 3, 7, 8, 4, 10, 0, 6, 7, 3, 0, 3, 0, 5, 7, 10, 1, 4, 9, 3])\n",
    "\n",
    "# TODO: Complete this function by having the function return the average value of our dataset.\n",
    "def compute_mean(dataset):\n",
    "    total = 0\n",
    "    for i in data:\n",
    "        total = total + data[i]\n",
    "    return(total/len(data))\n",
    "\n",
    "compute_mean(data)\n",
    "print(data)\n",
    "print(np.mean(data))"
   ]
  },
  {
   "cell_type": "code",
   "execution_count": 60,
   "metadata": {},
   "outputs": [
    {
     "data": {
      "text/plain": [
       "4.5"
      ]
     },
     "execution_count": 60,
     "metadata": {},
     "output_type": "execute_result"
    }
   ],
   "source": [
    "data = np.array([2, 5, 9, 3, 5, 4])\n",
    "\n",
    "def compute_median(dataset):\n",
    "    count = len(dataset)\n",
    "    ordered_data = np.sort(dataset)\n",
    "    if count < 1:      \n",
    "        return []\n",
    "    if count % 2 == 1:       \n",
    "        return ordered_data[int((count - 1)/2)] \n",
    "    else:\n",
    "        return (ordered_data[int(count/2)] + ordered_data[int(count/2) - 1])/2\n",
    "    \n",
    "compute_median(data)\n"
   ]
  },
  {
   "cell_type": "code",
   "execution_count": 81,
   "metadata": {},
   "outputs": [
    {
     "name": "stdout",
     "output_type": "stream",
     "text": [
      "({1: 2, 3: 5, 5: 2, 2: 1, 7: 3, 8: 1, 4: 2, 10: 2, 0: 3, 6: 1, 9: 1}, 3)\n"
     ]
    }
   ],
   "source": [
    "data = np.array([1, 3, 5, 2, 3, 7, 8, 4, 10, 0, 6, 7, 3, 0, 3, 0, 5, 7, 10, 1, 4, 9, 3])\n",
    "def compute_mode(dataset):\n",
    "    #set a variable to an empty dictionary\n",
    "    ls = {}\n",
    "    \n",
    "    for i in data:\n",
    "        #if not in list add count of 1\n",
    "        if i not in ls:\n",
    "            ls[i] = 1\n",
    "        else:\n",
    "            # if already in list increasse count\n",
    "            ls[i] += 1\n",
    "            \n",
    "    #return highest count item in list by key not by value\n",
    "    return ls, max(ls, key=ls.get)\n",
    "    \n",
    "print(compute_mode(data))\n"
   ]
  },
  {
   "cell_type": "code",
   "execution_count": 101,
   "metadata": {},
   "outputs": [
    {
     "name": "stdout",
     "output_type": "stream",
     "text": [
      "3\n"
     ]
    }
   ],
   "source": [
    "ls = {1: 2, 3: 5, 5: 2, 2: 1, 7: 3, 8: 1, 4: 2, 10: 2, 0: 3, 6: 1, 9: 1}\n",
    "m = 0\n",
    "for (i, j) in ls.items():\n",
    "    if ls.get(j) > m :\n",
    "        m = j\n",
    "print(m) "
   ]
  },
  {
   "cell_type": "code",
   "execution_count": 115,
   "metadata": {},
   "outputs": [
    {
     "data": {
      "text/plain": [
       "21"
      ]
     },
     "execution_count": 115,
     "metadata": {},
     "output_type": "execute_result"
    }
   ],
   "source": [
    "ls = [1, 2, 3, 5 ,19, 2, 4, 22]\n",
    "\n",
    "def t_range(list):\n",
    "    result = max(ls) - min(ls)\n",
    "    return result\n",
    "t_range(ls)"
   ]
  },
  {
   "cell_type": "code",
   "execution_count": 6,
   "metadata": {},
   "outputs": [
    {
     "name": "stdout",
     "output_type": "stream",
     "text": [
      "6.454972243679028\n",
      "6.45\n",
      "\n"
     ]
    }
   ],
   "source": [
    "def std_f(ls):\n",
    "    #mean of list\n",
    "    mean_ls = np.mean(ls)\n",
    "    # sumsqrt is equal to the sum of each element in list minus mean squared\n",
    "    sum_squared_from_mean = sum([(i - mean_ls)**2 for i in ls])\n",
    "    #retrun the squared sum divided by the numer of items minus 1\n",
    "    return np.sqrt(sum_squared_from_mean/(len(ls) - 1))\n",
    "    \n",
    "print(std_f([5, 10, 15 ,20]))\n",
    "print(round(np.std([5, 10, 15, 20], ddof=1), 2))\n",
    "\n",
    "print()"
   ]
  },
  {
   "cell_type": "markdown",
   "metadata": {},
   "source": [
    "For 2 given list add their elements ex [1, 2, 5] + [10, 15, 20] = [11, 17, 25]"
   ]
  },
  {
   "cell_type": "code",
   "execution_count": 138,
   "metadata": {},
   "outputs": [
    {
     "name": "stdout",
     "output_type": "stream",
     "text": [
      "[11, 17, 25, 36]\n"
     ]
    }
   ],
   "source": [
    "ls1 = [1, 2, 5, 11]\n",
    "ls2 = [10, 15, 20, 25]\n",
    "\n",
    "def addls():\n",
    "    esum = [sum(i) for i in zip(ls1, ls2)]\n",
    "    print(esum)\n",
    "    \n",
    "addls()"
   ]
  },
  {
   "cell_type": "code",
   "execution_count": null,
   "metadata": {},
   "outputs": [],
   "source": []
  }
 ],
 "metadata": {
  "kernelspec": {
   "display_name": "Python 3",
   "language": "python",
   "name": "python3"
  },
  "language_info": {
   "codemirror_mode": {
    "name": "ipython",
    "version": 3
   },
   "file_extension": ".py",
   "mimetype": "text/x-python",
   "name": "python",
   "nbconvert_exporter": "python",
   "pygments_lexer": "ipython3",
   "version": "3.8.1"
  }
 },
 "nbformat": 4,
 "nbformat_minor": 4
}
