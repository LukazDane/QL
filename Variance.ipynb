{
 "cells": [
  {
   "cell_type": "code",
   "execution_count": 24,
   "metadata": {},
   "outputs": [
    {
     "name": "stdout",
     "output_type": "stream",
     "text": [
      "[ 1  3  5  2  3  7  8  4 10  0  6  7  3  0  3  0  5  7 10  1  4  9  3]\n",
      "4.391304347826087\n",
      "({1: 2, 3: 5, 5: 2, 2: 1, 7: 3, 8: 1, 4: 2, 10: 2, 0: 3, 6: 1, 9: 1}, 3)\n",
      "3\n",
      "6.454972243679028\n",
      "6.45\n",
      "\n",
      "[11, 17, 25, 36]\n"
     ]
    }
   ],
   "source": [
    "%run Median-Mean-Mode-Jan-27.ipynb"
   ]
  },
  {
   "cell_type": "code",
   "execution_count": 19,
   "metadata": {},
   "outputs": [
    {
     "name": "stdout",
     "output_type": "stream",
     "text": [
      "3.5355339059327378\n",
      "18.01388353465182\n",
      "0.0\n"
     ]
    }
   ],
   "source": [
    "city_a = [29, 28, 32, 35, 36]\n",
    "city_b = [12, 18, 30, 45, 55]\n",
    "city_c = [32, 32, 32, 32, 32]\n",
    "print(std_f(city_a))\n",
    "print(std_f(city_b))\n",
    "print(std_f(city_c))"
   ]
  },
  {
   "cell_type": "code",
   "execution_count": 17,
   "metadata": {},
   "outputs": [
    {
     "name": "stdout",
     "output_type": "stream",
     "text": [
      "32\n",
      "30\n",
      "32\n"
     ]
    }
   ],
   "source": [
    "print(compute_median(city_a))\n",
    "print(compute_median(city_b))\n",
    "print(compute_median(city_c))"
   ]
  },
  {
   "cell_type": "code",
   "execution_count": 23,
   "metadata": {},
   "outputs": [
    {
     "data": {
      "image/png": "[encoded data removed]",
      "text/plain": [
       "<Figure size 432x288 with 1 Axes>"
      ]
     },
     "metadata": {
      "needs_background": "light"
     },
     "output_type": "display_data"
    }
   ],
   "source": [
    "import pandas as pd\n",
    "import seaborn as sns\n",
    "import matplotlib.pyplot as plt\n",
    "\n",
    "df = pd.DataFrame({'Rainy':[29,28,32,35,36,12,18,30,45,55,32,32,32,32,32], 'City':['City_A']*5 + ['City_B']*5 + ['City_C']*5})\n",
    "\n",
    "sns.lineplot(y='Rainy', x='City', data=df)\n",
    "\n",
    "\n",
    "plt.show()"
   ]
  },
  {
   "cell_type": "markdown",
   "metadata": {},
   "source": [
    "---"
   ]
  },
  {
   "cell_type": "code",
   "execution_count": 25,
   "metadata": {},
   "outputs": [
    {
     "data": {
      "text/plain": [
       "Text(0, 0.5, 'Water Drinks (Litre)')"
      ]
     },
     "execution_count": 25,
     "metadata": {},
     "output_type": "execute_result"
    },
    {
     "data": {
      "image/png": "[encoded data removed]",
      "text/plain": [
       "<Figure size 432x288 with 1 Axes>"
      ]
     },
     "metadata": {
      "needs_background": "light"
     },
     "output_type": "display_data"
    }
   ],
   "source": [
    "import matplotlib.pyplot as plt\n",
    "\n",
    "# Running Distance in Mile\n",
    "X = np.array([3.3,4.4,5.5,6.71,6.93,4.168,9.779,6.182,7.59,2.167,\n",
    "                         7.042,10.791,5.313,7.997,5.654,9.27,3.1])\n",
    "\n",
    "# Water Drinks in Litre\n",
    "Y = np.array([1.7,2.76,2.09,3.19,1.694,1.573,3.366,2.596,2.53,1.221,\n",
    "                         2.827,3.465,1.65,2.904,2.42,2.94,1.3])\n",
    "\n",
    "plt.scatter(X, Y)\n",
    "plt.xlabel('Running Distance (Mile)')\n",
    "plt.ylabel('Water Drinks (Litre)')"
   ]
  },
  {
   "cell_type": "code",
   "execution_count": 43,
   "metadata": {},
   "outputs": [
    {
     "data": {
      "text/plain": [
       "[<matplotlib.lines.Line2D at 0x127c02dc0>]"
      ]
     },
     "execution_count": 43,
     "metadata": {},
     "output_type": "execute_result"
    },
    {
     "data": {
      "image/png": "[encoded data removed]",
      "text/plain": [
       "<Figure size 432x288 with 1 Axes>"
      ]
     },
     "metadata": {
      "needs_background": "light"
     },
     "output_type": "display_data"
    }
   ],
   "source": [
    "predicted_y_values = []\n",
    "for i in X:\n",
    "    i = (0.7*i + 0.3)\n",
    "    predicted_y_values.append(i)\n",
    "\n",
    "plt.scatter(X, Y)\n",
    "plt.plot(X, predicted_y_values, 'ro-')"
   ]
  },
  {
   "cell_type": "code",
   "execution_count": 69,
   "metadata": {},
   "outputs": [
    {
     "name": "stdout",
     "output_type": "stream",
     "text": [
      "1.1551413295248638\n"
     ]
    },
    {
     "data": {
      "text/plain": [
       "1.3343514911764705"
      ]
     },
     "execution_count": 69,
     "metadata": {},
     "output_type": "execute_result"
    }
   ],
   "source": [
    "E = [(i-j) for i, j in zip(Y, predicted_y_values)]\n",
    "# m = sum(E) / len(E)\n",
    "# var = sum((i - m) ** 2 for i in E) / len(E)\n",
    "\n",
    "# def Error():\n",
    "#     for i in Y:\n",
    "#         i = (int(predicted_y_values[i]) - int(Y[i])\n",
    "#         E.append(i)\n",
    "#     return \n",
    "\n",
    "# Error()\n",
    "# print(var)\n",
    "print(std_f(E))\n",
    "np.var(E, ddof=1)"
   ]
  },
  {
   "cell_type": "code",
   "execution_count": 79,
   "metadata": {},
   "outputs": [
    {
     "data": {
      "text/plain": [
       "6.518593101764704"
      ]
     },
     "execution_count": 79,
     "metadata": {},
     "output_type": "execute_result"
    }
   ],
   "source": [
    "# MSE\n",
    "# sum([i**2 for i in E])/len(E)\n",
    "\n",
    "mse_ls = []\n",
    "def mse():\n",
    "    for i in E:\n",
    "        i = i**2/len(E)\n",
    "        mse_ls.append(i)\n",
    "    return sum(mse_ls)\n",
    "    \n",
    "mse()\n"
   ]
  },
  {
   "cell_type": "code",
   "execution_count": 81,
   "metadata": {},
   "outputs": [
    {
     "data": {
      "text/plain": [
       "[<matplotlib.lines.Line2D at 0x12a4bbb80>]"
      ]
     },
     "execution_count": 81,
     "metadata": {},
     "output_type": "execute_result"
    },
    {
     "data": {
      "image/png": "[encoded data removed]",
      "text/plain": [
       "<Figure size 432x288 with 1 Axes>"
      ]
     },
     "metadata": {
      "needs_background": "light"
     },
     "output_type": "display_data"
    }
   ],
   "source": [
    "predicted_y_values = list(map(lambda x: 0.25163494*x + 0.79880123, X))\n",
    "plt.scatter(X, Y)\n",
    "plt.plot(X, predicted_y_values, 'ro-')"
   ]
  },
  {
   "cell_type": "code",
   "execution_count": 91,
   "metadata": {},
   "outputs": [
    {
     "data": {
      "text/plain": [
       "0.16347377866953056"
      ]
     },
     "execution_count": 91,
     "metadata": {},
     "output_type": "execute_result"
    }
   ],
   "source": [
    "E = [(i-j) for i, j in zip(Y, predicted_y_values)]\n",
    "\n",
    "np.var(E, ddof=1)"
   ]
  },
  {
   "cell_type": "code",
   "execution_count": 95,
   "metadata": {},
   "outputs": [
    {
     "data": {
      "text/plain": [
       "0.15385767404191164"
      ]
     },
     "execution_count": 95,
     "metadata": {},
     "output_type": "execute_result"
    }
   ],
   "source": [
    "# MSE\n",
    "sum([i**2 for i in E])/len(E)"
   ]
  },
  {
   "cell_type": "code",
   "execution_count": 132,
   "metadata": {},
   "outputs": [
    {
     "name": "stdout",
     "output_type": "stream",
     "text": [
      "10\n",
      "3\n",
      "0.4782608695652174\n",
      "0.34782608695652173\n"
     ]
    }
   ],
   "source": [
    "import math\n",
    "def percentile(data, percent):\n",
    "        data = np.sort(data)\n",
    "        index = (percent/100)*len(data)-1\n",
    "        index = int(math.ceil(index))\n",
    "        print(index)\n",
    "percentile(data, 44) #10 numbers are less or equal to 3\n",
    "print(int(np.percentile(data, 44)))\n",
    "\n",
    "print((3+2+1+5)/len(data))\n",
    "print((2+1+5)/len(data))\n"
   ]
  },
  {
   "cell_type": "code",
   "execution_count": 122,
   "metadata": {},
   "outputs": [
    {
     "name": "stdout",
     "output_type": "stream",
     "text": [
      "3\n",
      "3\n"
     ]
    }
   ],
   "source": [
    "data = np.array([1, 3, 5, 2, 3, 7, 8, 4, 10, 0, 6, 7, 3, 0, 3, 0, 5, 7, 10, 1, 4, 9, 3])\n",
    "\n",
    "def percentile(data, percent):\n",
    "    data = np.sort(data)\n",
    "    index = (percent/100)*len(data)\n",
    "    index = int(np.ceil(index))\n",
    "    return data[index-1]\n",
    "    \n",
    "print(percentile(data, 44))\n",
    "print(int(np.percentile(data, 44)))"
   ]
  },
  {
   "cell_type": "code",
   "execution_count": 133,
   "metadata": {},
   "outputs": [
    {
     "data": {
      "text/plain": [
       "30.80276923076923"
      ]
     },
     "execution_count": 133,
     "metadata": {},
     "output_type": "execute_result"
    }
   ],
   "source": [
    "((28.34*61) + (32.98*69))/(61 + 69)\n"
   ]
  },
  {
   "cell_type": "code",
   "execution_count": 135,
   "metadata": {},
   "outputs": [
    {
     "name": "stdout",
     "output_type": "stream",
     "text": [
      "30.80276923076923\n"
     ]
    }
   ],
   "source": []
  },
  {
   "cell_type": "code",
   "execution_count": null,
   "metadata": {},
   "outputs": [],
   "source": [
    "()"
   ]
  }
 ],
 "metadata": {
  "kernelspec": {
   "display_name": "Python 3",
   "language": "python",
   "name": "python3"
  },
  "language_info": {
   "codemirror_mode": {
    "name": "ipython",
    "version": 3
   },
   "file_extension": ".py",
   "mimetype": "text/x-python",
   "name": "python",
   "nbconvert_exporter": "python",
   "pygments_lexer": "ipython3",
   "version": "3.8.1"
  }
 },
 "nbformat": 4,
 "nbformat_minor": 4
}
