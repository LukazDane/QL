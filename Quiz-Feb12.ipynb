{
 "cells": [
  {
   "cell_type": "markdown",
   "metadata": {},
   "source": [
    "For a given list and upper and lower threshhold, compute how many elements in the lit is greater or equal than the lower threshold and also lower or equal than the upper threshold."
   ]
  },
  {
   "cell_type": "code",
   "execution_count": 5,
   "metadata": {},
   "outputs": [
    {
     "data": {
      "text/plain": [
       "(3, 1)"
      ]
     },
     "execution_count": 5,
     "metadata": {},
     "output_type": "execute_result"
    }
   ],
   "source": [
    "ls = [1, 2, 3, 4]\n",
    "\n",
    "def threshold(upper, lower, ls):\n",
    "    \n",
    "    count_high = 0\n",
    "    count_low = 0\n",
    "    for i in ls:\n",
    "        if i >= lower:\n",
    "            count_low += 1\n",
    "        elif i <= upper:\n",
    "            count_high += 1\n",
    "        else:\n",
    "            pass\n",
    "    return count_low, count_high\n",
    "threshold(3,2, ls)"
   ]
  },
  {
   "cell_type": "code",
   "execution_count": null,
   "metadata": {},
   "outputs": [],
   "source": []
  }
 ],
 "metadata": {
  "kernelspec": {
   "display_name": "Python 3",
   "language": "python",
   "name": "python3"
  },
  "language_info": {
   "codemirror_mode": {
    "name": "ipython",
    "version": 3
   },
   "file_extension": ".py",
   "mimetype": "text/x-python",
   "name": "python",
   "nbconvert_exporter": "python",
   "pygments_lexer": "ipython3",
   "version": "3.8.1"
  }
 },
 "nbformat": 4,
 "nbformat_minor": 4
}
