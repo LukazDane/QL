{
 "cells": [
  {
   "cell_type": "code",
   "execution_count": 5,
   "metadata": {},
   "outputs": [
    {
     "name": "stdout",
     "output_type": "stream",
     "text": [
      "0.0      0.0      0.0     \n",
      "0.0      1.6667   1.1667  \n",
      "0.0      1.1667   0.91667 \n",
      "\n"
     ]
    }
   ],
   "source": [
    "import numpy as np\n",
    "\n",
    "dataset = np.array([[1, 1, 1], [1, 2, 1], [1, 3, 2], [1, 4, 3]])\n",
    "X = [1, 1, 1, 1]\n",
    "Y = [1, 2, 3, 4]\n",
    "Z = [1, 1, 2, 3]\n",
    "\n",
    "\n",
    "def cov_matrix_calculation(data):\n",
    "    # calculate covariance matrix of the data\n",
    "    cov_matx = np.cov(data.T)\n",
    "    return cov_matx\n",
    "\n",
    "\n",
    "# print(cov_matrix_calculation(dataset))\n",
    "\n",
    "\n",
    "\"\"\" TODO: Write sa function that obtains covar between 2 given lists\n",
    "    def cov_calc(lst_x, lst_y)\"\n",
    "        n = len(lst_x)\n",
    "        mean_x = []\n",
    "        mean_y = []\n",
    "        for (i, j) in zip(lst_x, lst_y)\n",
    "\n",
    "        return sumation/n-1\n",
    "\"\"\"\n",
    "\n",
    "\n",
    "def cov_calc(list1, list2):\n",
    "    n = 0\n",
    "    mean_ls1 = np.mean(list1)  # mean of X\n",
    "    mean_ls2 = np.mean(list2)  # mean of Y\n",
    "    # list of denominator = x[i] - mean of x squared\n",
    "    d1 = [(i - mean_ls1)**2 for i in list1]\n",
    "    # list of denominator = y[j] - mean of y squared\n",
    "    d2 = [(j - mean_ls2)**2 for j in list2]\n",
    "    for (i, j) in zip(list1, list2):\n",
    "        # for each item in list x/y subtract mean of x/y\n",
    "        # multiply the result of each x and y\n",
    "        # add all results together\n",
    "        n += ((i - mean_ls1)) * ((j - mean_ls2))\n",
    "        # divide results(n) by the sum of all denom x squared and multiply by the sum of all denom y squared\n",
    "    return n/(len(list1)-1)\n",
    "\n",
    "# https://stackoverflow.com/questions/22613235/format-value-to-float-with-width-and-precision\n",
    "def cov_matrix(lsX, lsY, lsZ):\n",
    "    covXY = cov_calc(lsX, lsY)\n",
    "    covXZ = cov_calc(lsX, lsZ)\n",
    "    covYZ = cov_calc(lsY, lsZ)\n",
    "    covXX = cov_calc(lsX, lsX)\n",
    "    covYY = cov_calc(lsY, lsY)\n",
    "    covZZ = cov_calc(lsZ, lsZ)\n",
    "#     varX = np.var(lsX)\n",
    "#     varY = np.var(lsY)\n",
    "#     varZ = np.var(lsZ)\n",
    "    width = 8\n",
    "    precision = 5\n",
    "    matx = (\n",
    "        f'{covXX:<{width}.{precision}} {covXY:<{width}.{precision}} {covXZ:<{width}.{precision}}\\n'\n",
    "        f'{covXY:<{width}.{precision}} {covYY:<{width}.{precision}} {covYZ:<{width}.{precision}}\\n'\n",
    "        f'{covXZ:<{width}.{precision}} {covYZ:<{width}.{precision}} {covZZ:<{width}.{precision}}\\n'\n",
    "    )\n",
    "    return matx\n",
    "\n",
    "\n",
    "print(cov_matrix(X, Y, Z))\n"
   ]
  },
  {
   "cell_type": "code",
   "execution_count": null,
   "metadata": {},
   "outputs": [],
   "source": []
  }
 ],
 "metadata": {
  "kernelspec": {
   "display_name": "Python 3",
   "language": "python",
   "name": "python3"
  },
  "language_info": {
   "codemirror_mode": {
    "name": "ipython",
    "version": 3
   },
   "file_extension": ".py",
   "mimetype": "text/x-python",
   "name": "python",
   "nbconvert_exporter": "python",
   "pygments_lexer": "ipython3",
   "version": "3.8.1"
  }
 },
 "nbformat": 4,
 "nbformat_minor": 4
}
