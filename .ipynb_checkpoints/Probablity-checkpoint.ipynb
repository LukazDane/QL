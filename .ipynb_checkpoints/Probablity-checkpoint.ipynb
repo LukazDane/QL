{
 "cells": [
  {
   "cell_type": "code",
   "execution_count": 5,
   "metadata": {},
   "outputs": [
    {
     "data": {
      "text/plain": [
       "0.3"
      ]
     },
     "execution_count": 5,
     "metadata": {},
     "output_type": "execute_result"
    }
   ],
   "source": [
    "(3/5) * (2/4)"
   ]
  },
  {
   "cell_type": "code",
   "execution_count": 32,
   "metadata": {},
   "outputs": [
    {
     "name": "stdout",
     "output_type": "stream",
     "text": [
      "['Send', 'us', 'your', 'password', 'review', 'us', 'Send', 'your', 'password', 'Send', 'us', 'your', 'account']\n"
     ]
    }
   ],
   "source": [
    "spam_text= ['Send us your password', 'review us', 'Send your password', 'Send us your account']\n",
    "def histogram_spam(ls):\n",
    "    ls_of_words = []\n",
    "    for sentence in ls:\n",
    "        for word in sentence.split(' '):\n",
    "            ls_of_words.append(word)\n",
    "    print(ls_of_words)\n",
    "    \n",
    "histogram_spam(spam_text)"
   ]
  },
  {
   "cell_type": "code",
   "execution_count": null,
   "metadata": {},
   "outputs": [],
   "source": [
    "spam = {\n",
    "    \"password\": 2,\n",
    "    \"review\": 1,\n",
    "    \"send\": 3,\n",
    "    \"us\": 3,\n",
    "    \"your\": 3,\n",
    "    \"account\": 1\n",
    "}\n",
    "\n",
    "ham = {\n",
    "    \"password\": 1,\n",
    "    \"review\": 2,\n",
    "    \"send\": 1,\n",
    "    \"us\": 1,\n",
    "    \"your\": 1,\n",
    "    \"account\": 0\n",
    "}\n",
    "\n",
    "p_review_given_spam = spam['review']/sum(spam.values())\n",
    "print(p_review_given_spam)"
   ]
  }
 ],
 "metadata": {
  "kernelspec": {
   "display_name": "Python 3",
   "language": "python",
   "name": "python3"
  },
  "language_info": {
   "codemirror_mode": {
    "name": "ipython",
    "version": 3
   },
   "file_extension": ".py",
   "mimetype": "text/x-python",
   "name": "python",
   "nbconvert_exporter": "python",
   "pygments_lexer": "ipython3",
   "version": "3.8.1"
  }
 },
 "nbformat": 4,
 "nbformat_minor": 4
}
