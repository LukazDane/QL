{
 "cells": [
  {
   "cell_type": "code",
   "execution_count": 3,
   "metadata": {},
   "outputs": [
    {
     "name": "stdout",
     "output_type": "stream",
     "text": [
      "5\n"
     ]
    }
   ],
   "source": [
    "def sum_f(a,b):\n",
    "    return a + b\n",
    "print(sum_f(2,3))"
   ]
  },
  {
   "cell_type": "markdown",
   "metadata": {},
   "source": [
    "This is text, change to markdown..."
   ]
  },
  {
   "cell_type": "markdown",
   "metadata": {},
   "source": [
    "${\\bar x} = 1/N \\sum_{i=0}^{N-1}x_i$"
   ]
  },
  {
   "cell_type": "markdown",
   "metadata": {},
   "source": [
    "<img src=\"https://vignette.wikia.nocookie.net/jjba/images/5/50/Bornthisway.png/revision/latest?cb=20160821082800\" width=\"100\" height=\"100\">"
   ]
  },
  {
   "cell_type": "code",
   "execution_count": 25,
   "metadata": {},
   "outputs": [
    {
     "name": "stdout",
     "output_type": "stream",
     "text": [
      "714\n",
      "29.69911764705882\n"
     ]
    }
   ],
   "source": [
    "import pandas as pd \n",
    "df = pd.read_csv('/Users/lukazphelps/Desktop/QL/titanic.csv')\n",
    "# create a list of Age values,\n",
    "# not including N/A values\n",
    "ls_age = df['Age'].dropna().values\n",
    "print(len(ls_age))\n",
    "# print(ls_age)\n",
    "sum = 0\n",
    "for i in ls_age:\n",
    "    sum += i\n",
    "print(sum/len(ls_age))"
   ]
  },
  {
   "cell_type": "code",
   "execution_count": 15,
   "metadata": {},
   "outputs": [],
   "source": []
  },
  {
   "cell_type": "code",
   "execution_count": 42,
   "metadata": {},
   "outputs": [
    {
     "name": "stdout",
     "output_type": "stream",
     "text": [
      "Total: 891\n",
      "males: 65.0%\n",
      "females: 35.0%\n"
     ]
    }
   ],
   "source": [
    "# Starter code:\n",
    "import pandas as pd \n",
    "\n",
    "# read in the CSV\n",
    "df = pd.read_csv('/Users/lukazphelps/Desktop/QL/titanic.csv')\n",
    "# create a list of gender values\n",
    "ls_gender = df['Sex'].dropna().values\n",
    "print(\"Total: \" + str(len(ls_gender)))\n",
    "# print(ls_gender)\n",
    "male = 0\n",
    "female = 0\n",
    "for i in ls_gender:\n",
    "    if i == 'male':\n",
    "        male += 1\n",
    "    else: \n",
    "        female += 1\n",
    "print(\"males: \" + str(round(male/len(ls_gender), 2)*100) + \"%\")\n",
    "print(\"females: \" + str(round(female/len(ls_gender), 2)*100) + \"%\")"
   ]
  },
  {
   "cell_type": "markdown",
   "metadata": {},
   "source": [
    "Find Average age of females ^^^"
   ]
  },
  {
   "cell_type": "code",
   "execution_count": 98,
   "metadata": {},
   "outputs": [
    {
     "name": "stdout",
     "output_type": "stream",
     "text": [
      "{2: 1, 3: 2, 7: 1, 0: 2}\n"
     ]
    }
   ],
   "source": [
    "list = [2, 3, 3, 7, 0, 0]\n",
    "\n",
    "def unique_count(list):\n",
    "    count = {}\n",
    "    for i in list:\n",
    "        count[i] = count.get(i, 0) + 1\n",
    "print(count)"
   ]
  },
  {
   "cell_type": "code",
   "execution_count": 147,
   "metadata": {},
   "outputs": [
    {
     "name": "stdout",
     "output_type": "stream",
     "text": [
      "Average age of Female: 27.92\n",
      "Average age of Male: 29.7\n"
     ]
    }
   ],
   "source": [
    "import pandas as pd\n",
    "import numpy as np\n",
    "df = pd.read_csv('/Users/lukazphelps/Desktop/QL/titanic.csv')\n",
    "ls_age = df['Age'].values\n",
    "ls_gender = df['Sex'].values\n",
    "total_age = 0\n",
    "counter = 0\n",
    "for (i, j) in zip(ls_age, ls_gender):\n",
    "    if j == \"female\" and np.isnan(i) == False:\n",
    "        total_age += i\n",
    "        counter += 1\n",
    "print(\"Average age of Female: \" + str(round(total_age/counter, 2)))\n",
    "for (i, j) in zip(ls_age, ls_gender):\n",
    "    if j == \"male\" and np.isnan(i) == False:\n",
    "        total_age += i\n",
    "        counter += 1\n",
    "print(\"Average age of Male: \" + str(round(total_age/counter, 2)))\n",
    "        "
   ]
  },
  {
   "cell_type": "code",
   "execution_count": null,
   "metadata": {},
   "outputs": [],
   "source": []
  }
 ],
 "metadata": {
  "kernelspec": {
   "display_name": "Python 3",
   "language": "python",
   "name": "python3"
  },
  "language_info": {
   "codemirror_mode": {
    "name": "ipython",
    "version": 3
   },
   "file_extension": ".py",
   "mimetype": "text/x-python",
   "name": "python",
   "nbconvert_exporter": "python",
   "pygments_lexer": "ipython3",
   "version": "3.8.1"
  }
 },
 "nbformat": 4,
 "nbformat_minor": 4
}
